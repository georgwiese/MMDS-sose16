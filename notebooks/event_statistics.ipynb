{
 "cells": [
  {
   "cell_type": "markdown",
   "metadata": {},
   "source": [
    "# Exploration of the Event Dataset\n",
    "The purpose of this notebook is to get some impression and basic statistics of the event dataset."
   ]
  },
  {
   "cell_type": "code",
   "execution_count": 3,
   "metadata": {
    "collapsed": false
   },
   "outputs": [],
   "source": [
    "import pandas as pd\n",
    "import os\n",
    "import json\n",
    "import matplotlib.pyplot as plt\n",
    "from IPython.core.display import HTML as html\n",
    "\n",
    "# Enable inline plotting\n",
    "%matplotlib inline\n",
    "\n",
    "# Show all columns in a table\n",
    "pd.set_option('display.max_columns', None)"
   ]
  },
  {
   "cell_type": "markdown",
   "metadata": {},
   "source": [
    "## Load Event Dataset\n",
    "The path to the event dataset must be stored in the ```DATA_PATH``` variable. It can be generated using the ```merge_events_venues.py``` script."
   ]
  },
  {
   "cell_type": "code",
   "execution_count": 2,
   "metadata": {
    "collapsed": true
   },
   "outputs": [],
   "source": [
    "DATA_PATH = \"../scripts/events/data/merged_events.csv\""
   ]
  },
  {
   "cell_type": "code",
   "execution_count": 10,
   "metadata": {
    "collapsed": false
   },
   "outputs": [
    {
     "data": {
      "text/html": [
       "<div>\n",
       "<table border=\"1\" class=\"dataframe\">\n",
       "  <thead>\n",
       "    <tr style=\"text-align: right;\">\n",
       "      <th></th>\n",
       "      <th>guid</th>\n",
       "      <th>start_date</th>\n",
       "      <th>end_date</th>\n",
       "      <th>all_day</th>\n",
       "      <th>score</th>\n",
       "      <th>latitude</th>\n",
       "      <th>longitude</th>\n",
       "    </tr>\n",
       "    <tr>\n",
       "      <th>id</th>\n",
       "      <th></th>\n",
       "      <th></th>\n",
       "      <th></th>\n",
       "      <th></th>\n",
       "      <th></th>\n",
       "      <th></th>\n",
       "      <th></th>\n",
       "    </tr>\n",
       "  </thead>\n",
       "  <tbody>\n",
       "    <tr>\n",
       "      <th>6444</th>\n",
       "      <td>1496D842-29E1-11E2-B948-ADD068356B4B</td>\n",
       "      <td>2009-10-13 00:00:00</td>\n",
       "      <td>2009-10-13 00:00:00</td>\n",
       "      <td>False</td>\n",
       "      <td>0.0</td>\n",
       "      <td>40.728636</td>\n",
       "      <td>-73.984834</td>\n",
       "    </tr>\n",
       "    <tr>\n",
       "      <th>5635</th>\n",
       "      <td>1B18AE24-29E2-11E2-8674-D6A7258BE015</td>\n",
       "      <td>2010-11-24 01:00:00</td>\n",
       "      <td>2010-11-24 01:00:00</td>\n",
       "      <td>False</td>\n",
       "      <td>0.0</td>\n",
       "      <td>40.740192</td>\n",
       "      <td>-73.923637</td>\n",
       "    </tr>\n",
       "    <tr>\n",
       "      <th>4926</th>\n",
       "      <td>9626a4d8-dbf3-4415-84ac-7fd7fc05a749</td>\n",
       "      <td>2011-06-03 14:30:00</td>\n",
       "      <td>2011-06-03 14:30:00</td>\n",
       "      <td>False</td>\n",
       "      <td>0.0</td>\n",
       "      <td>40.741528</td>\n",
       "      <td>-73.782242</td>\n",
       "    </tr>\n",
       "    <tr>\n",
       "      <th>6964</th>\n",
       "      <td>CE862710-5C0B-11E2-9B0F-F96380BCCC38</td>\n",
       "      <td>2012-01-05 15:00:00</td>\n",
       "      <td>2012-01-05 15:00:00</td>\n",
       "      <td>False</td>\n",
       "      <td>0.0</td>\n",
       "      <td>40.900177</td>\n",
       "      <td>-73.911198</td>\n",
       "    </tr>\n",
       "    <tr>\n",
       "      <th>6965</th>\n",
       "      <td>CE9DEF94-5C0B-11E2-B469-89FA7A456421</td>\n",
       "      <td>2012-01-06 15:00:00</td>\n",
       "      <td>2012-01-06 15:00:00</td>\n",
       "      <td>False</td>\n",
       "      <td>0.0</td>\n",
       "      <td>40.900177</td>\n",
       "      <td>-73.911198</td>\n",
       "    </tr>\n",
       "  </tbody>\n",
       "</table>\n",
       "</div>"
      ],
      "text/plain": [
       "                                      guid          start_date  \\\n",
       "id                                                               \n",
       "6444  1496D842-29E1-11E2-B948-ADD068356B4B 2009-10-13 00:00:00   \n",
       "5635  1B18AE24-29E2-11E2-8674-D6A7258BE015 2010-11-24 01:00:00   \n",
       "4926  9626a4d8-dbf3-4415-84ac-7fd7fc05a749 2011-06-03 14:30:00   \n",
       "6964  CE862710-5C0B-11E2-9B0F-F96380BCCC38 2012-01-05 15:00:00   \n",
       "6965  CE9DEF94-5C0B-11E2-B469-89FA7A456421 2012-01-06 15:00:00   \n",
       "\n",
       "                end_date all_day  score   latitude  longitude  \n",
       "id                                                             \n",
       "6444 2009-10-13 00:00:00   False    0.0  40.728636 -73.984834  \n",
       "5635 2010-11-24 01:00:00   False    0.0  40.740192 -73.923637  \n",
       "4926 2011-06-03 14:30:00   False    0.0  40.741528 -73.782242  \n",
       "6964 2012-01-05 15:00:00   False    0.0  40.900177 -73.911198  \n",
       "6965 2012-01-06 15:00:00   False    0.0  40.900177 -73.911198  "
      ]
     },
     "execution_count": 10,
     "metadata": {},
     "output_type": "execute_result"
    }
   ],
   "source": [
    "data = pd.read_csv(DATA_PATH,\n",
    "                   parse_dates=[\"start_date\", \"end_date\"],\n",
    "                   index_col=\"id\")\n",
    "data[\"longitude\"] = pd.to_numeric(data[\"longitude\"], errors=\"coerce\")\n",
    "data[\"score\"] = data[\"score\"].replace(-1, 0)\n",
    "data.head()"
   ]
  },
  {
   "cell_type": "markdown",
   "metadata": {},
   "source": [
    "## Average Events per Day"
   ]
  },
  {
   "cell_type": "code",
   "execution_count": 3,
   "metadata": {
    "collapsed": false
   },
   "outputs": [
    {
     "data": {
      "text/plain": [
       "22.489494163424123"
      ]
     },
     "execution_count": 3,
     "metadata": {},
     "output_type": "execute_result"
    }
   ],
   "source": [
    "data[\"just_start_date\"] = data[\"start_date\"].dt.date\n",
    "grouped_data = data.groupby(\"just_start_date\").count()\n",
    "grouped_data[\"guid\"].mean()"
   ]
  },
  {
   "cell_type": "markdown",
   "metadata": {},
   "source": [
    "## Histogram of Events per Month"
   ]
  },
  {
   "cell_type": "code",
   "execution_count": 22,
   "metadata": {
    "collapsed": false
   },
   "outputs": [
    {
     "data": {
      "text/plain": [
       "<matplotlib.text.Text at 0x11f987ef0>"
      ]
     },
     "execution_count": 22,
     "metadata": {},
     "output_type": "execute_result"
    },
    {
     "data": {
      "image/png": "[encoded data removed]",
      "text/plain": [
       "<matplotlib.figure.Figure at 0x11d7f60b8>"
      ]
     },
     "metadata": {},
     "output_type": "display_data"
    }
   ],
   "source": [
    "data[\"start_year\"] = data[\"start_date\"].dt.year\n",
    "data[\"start_month\"] = data[\"start_date\"].dt.month\n",
    "grouped_data = data.groupby([\"start_year\", \"start_month\"]).count()\n",
    "ax = grouped_data[\"guid\"].plot.bar(figsize=(25, 5))\n",
    "ax.set_title(\"Number of events per month\", fontsize=20)"
   ]
  },
  {
   "cell_type": "code",
   "execution_count": null,
   "metadata": {
    "collapsed": true
   },
   "outputs": [],
   "source": [
    ""
   ]
  }
 ],
 "metadata": {
  "kernelspec": {
   "display_name": "Python 2",
   "language": "python",
   "name": "python2"
  },
  "language_info": {
   "codemirror_mode": {
    "name": "ipython",
    "version": 2.0
   },
   "file_extension": ".py",
   "mimetype": "text/x-python",
   "name": "python",
   "nbconvert_exporter": "python",
   "pygments_lexer": "ipython2",
   "version": "2.7.11"
  }
 },
 "nbformat": 4,
 "nbformat_minor": 0
}