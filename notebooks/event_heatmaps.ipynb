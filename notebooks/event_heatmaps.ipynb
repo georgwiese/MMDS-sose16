{
 "cells": [
  {
   "cell_type": "markdown",
   "metadata": {},
   "source": [
    "# Create Heatmaps for Event Dataset\n",
    "The notebook creates several data series for the use in the heatmap visualizer for analyzing the event density and distribution in New York City."
   ]
  },
  {
   "cell_type": "code",
   "execution_count": 4,
   "metadata": {
    "collapsed": true
   },
   "outputs": [],
   "source": [
    "import pandas as pd\n",
    "import os\n",
    "import json"
   ]
  },
  {
   "cell_type": "markdown",
   "metadata": {},
   "source": [
    "## Load Event Dataset\n",
    "The path to the event dataset must be stored in the ```DATA_PATH``` variable. It can be generated using the ```merge_events_venues.py``` script."
   ]
  },
  {
   "cell_type": "code",
   "execution_count": null,
   "metadata": {
    "collapsed": true
   },
   "outputs": [],
   "source": [
    "DATA_PATH = \"../scripts/events/data/merged_events.csv\"\n",
    "OUTPUT_PATH = \"../heatmap-visualizer/maps\""
   ]
  },
  {
   "cell_type": "code",
   "execution_count": 5,
   "metadata": {
    "collapsed": false
   },
   "outputs": [],
   "source": [
    "data = pd.read_csv(DATA_PATH,\n",
    "                   parse_dates=[\"start_date\", \"end_date\"],\n",
    "                   index_col=\"id\")\n",
    "data[\"longitude\"] = pd.to_numeric(data[\"longitude\"], errors=\"coerce\")\n",
    "data[\"score\"] = data[\"score\"].replace(-1, 0)"
   ]
  },
  {
   "cell_type": "markdown",
   "metadata": {},
   "source": [
    "## Discretize Latitute & Longitudes"
   ]
  },
  {
   "cell_type": "code",
   "execution_count": 3,
   "metadata": {
    "collapsed": false
   },
   "outputs": [],
   "source": [
    "ROUND_PARAM = 3\n",
    "DISCRETIZED_COLUMN_NAMES = [\"longitude_descretized\", \"latitude_discretized\"]\n",
    "\n",
    "data[\"longitude_descretized\"] = data[\"longitude\"].round(ROUND_PARAM)\n",
    "data[\"latitude_discretized\"] = data[\"latitude\"].round(ROUND_PARAM)"
   ]
  },
  {
   "cell_type": "markdown",
   "metadata": {},
   "source": [
    "## Helper methods"
   ]
  },
  {
   "cell_type": "code",
   "execution_count": 21,
   "metadata": {
    "collapsed": false
   },
   "outputs": [],
   "source": [
    "def make_json(scores, title, normalize_value):\n",
    "    points = []\n",
    "    for i in range(len(scores)):\n",
    "        lon, lat = scores.index[i]\n",
    "        score = scores[\"score\"][i]\n",
    "        points.append({\"lat\": lat, \"lon\": lon, \"weight\": float(score / normalize_value) + 1})\n",
    "    \n",
    "    return {\n",
    "        \"title\": title,\n",
    "        \"pointRadius\": 10,\n",
    "        \"data\": points\n",
    "    }"
   ]
  },
  {
   "cell_type": "markdown",
   "metadata": {},
   "source": [
    "## Heatmaps"
   ]
  },
  {
   "cell_type": "markdown",
   "metadata": {},
   "source": [
    "### Average event density\n",
    "The heatmap series contains the summed scores of the events happening in the discretized districts in the whole time period. "
   ]
  },
  {
   "cell_type": "code",
   "execution_count": 28,
   "metadata": {
    "collapsed": false
   },
   "outputs": [],
   "source": [
    "summed_scores = data[DISCRETIZED_COLUMN_NAMES + [\"score\"]].groupby(DISCRETIZED_COLUMN_NAMES).sum()"
   ]
  },
  {
   "cell_type": "code",
   "execution_count": 29,
   "metadata": {
    "collapsed": false
   },
   "outputs": [],
   "source": [
    "with open(os.path.join(OUTPUT_PATH, \"event_density.json\"), \"w\") as outfile:\n",
    "    json.dump(make_json(summed_scores, \"Average event density\", summed_scores[\"score\"].max()), outfile)"
   ]
  },
  {
   "cell_type": "markdown",
   "metadata": {},
   "source": [
    "### Average events by weekday\n",
    "The heatmap series contains the summed scores of the events happening in the discretized districts grouped by weekday. "
   ]
  },
  {
   "cell_type": "code",
   "execution_count": 24,
   "metadata": {
    "collapsed": false
   },
   "outputs": [],
   "source": [
    "data[\"weekday\"] = data[\"start_date\"].apply(lambda x: x.weekday())\n",
    "summed_scores = data[DISCRETIZED_COLUMN_NAMES + [\"score\", \"weekday\"]].groupby([\"weekday\"] + DISCRETIZED_COLUMN_NAMES).sum()"
   ]
  },
  {
   "cell_type": "code",
   "execution_count": 26,
   "metadata": {
    "collapsed": false
   },
   "outputs": [],
   "source": [
    "output_dir = os.path.join(OUTPUT_PATH, \"events_by_weekday\")\n",
    "if not os.path.exists(output_dir):\n",
    "    os.makedirs(output_dir)\n",
    "\n",
    "weekday_names = [\"Monday\", \"Tuesday\", \"Wednesday\", \"Thursday\", \"Friday\", \"Saturday\", \"Sunday\"]\n",
    "\n",
    "for weekday in range(7):\n",
    "    weekday_summed_scores = summed_scores.loc[weekday]\n",
    "    with open(os.path.join(output_dir, str(weekday) + \".json\"), \"w\") as outfile:\n",
    "        json.dump(make_json(weekday_summed_scores, weekday_names[weekday], summed_scores[\"score\"].max()), outfile)"
   ]
  },
  {
   "cell_type": "markdown",
   "metadata": {},
   "source": [
    "### Average events by hour\n",
    "The heatmap series contains the summed scores of the events happening in the discretized districts grouped by hour. "
   ]
  },
  {
   "cell_type": "code",
   "execution_count": 34,
   "metadata": {
    "collapsed": false
   },
   "outputs": [],
   "source": [
    "data[\"hour\"] = data[\"start_date\"].apply(lambda x: x.hour)\n",
    "summed_scores = data[DISCRETIZED_COLUMN_NAMES + [\"score\", \"hour\"]].groupby([\"hour\"] + DISCRETIZED_COLUMN_NAMES).sum()"
   ]
  },
  {
   "cell_type": "code",
   "execution_count": 39,
   "metadata": {
    "collapsed": false
   },
   "outputs": [],
   "source": [
    "output_dir = os.path.join(OUTPUT_PATH, \"events_by_hour\")\n",
    "if not os.path.exists(output_dir):\n",
    "    os.makedirs(output_dir)\n",
    "\n",
    "for hour in range(24):\n",
    "    if hour in summed_scores.index:\n",
    "        weekday_summed_scores = summed_scores.loc[hour]\n",
    "    else:\n",
    "        weekday_summed_scores = []\n",
    "    with open(os.path.join(output_dir, \"%02d.json\" % hour), \"w\") as outfile:\n",
    "        json.dump(make_json(weekday_summed_scores, \"%02d:00\" % hour, summed_scores[\"score\"].max()), outfile)"
   ]
  }
 ],
 "metadata": {
  "kernelspec": {
   "display_name": "Python 2",
   "language": "python",
   "name": "python2"
  },
  "language_info": {
   "codemirror_mode": {
    "name": "ipython",
    "version": 2
   },
   "file_extension": ".py",
   "mimetype": "text/x-python",
   "name": "python",
   "nbconvert_exporter": "python",
   "pygments_lexer": "ipython2",
   "version": "2.7.11"
  }
 },
 "nbformat": 4,
 "nbformat_minor": 0
}
