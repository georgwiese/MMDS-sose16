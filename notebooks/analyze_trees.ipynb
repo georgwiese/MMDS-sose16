{
 "cells": [
  {
   "cell_type": "code",
   "execution_count": 136,
   "metadata": {
    "collapsed": false
   },
   "outputs": [],
   "source": [
    "import re\n",
    "from collections import deque\n",
    "\n",
    "from pyspark import SparkContext\n",
    "from pyspark import SparkConf\n",
    "from pyspark.sql import SQLContext\n",
    "\n",
    "from pyspark.mllib.tree import RandomForestModel"
   ]
  },
  {
   "cell_type": "code",
   "execution_count": 2,
   "metadata": {
    "collapsed": false
   },
   "outputs": [],
   "source": [
    "conf = (SparkConf().setMaster(\"local[*]\").setAppName('pyspark'))\n",
    "sc = SparkContext(conf=conf)\n",
    "sql_context = SQLContext(sc)"
   ]
  },
  {
   "cell_type": "markdown",
   "metadata": {},
   "source": [
    "# Configuration"
   ]
  },
  {
   "cell_type": "code",
   "execution_count": 3,
   "metadata": {
    "collapsed": true
   },
   "outputs": [],
   "source": [
    "MODEL_LOCATION = \"/Users/georg/Downloads/random_forest_d15_n5/model_40.72_-73.94/\""
   ]
  },
  {
   "cell_type": "code",
   "execution_count": 122,
   "metadata": {
    "collapsed": true
   },
   "outputs": [],
   "source": [
    "FEATURE_MAPPING = [\"Feature %d\" % (i + 1) for i in range(100000)]"
   ]
  },
  {
   "cell_type": "markdown",
   "metadata": {},
   "source": [
    "# Load Model & Get Debug String"
   ]
  },
  {
   "cell_type": "code",
   "execution_count": 5,
   "metadata": {
    "collapsed": true
   },
   "outputs": [],
   "source": [
    "model = RandomForestModel.load(sc, MODEL_LOCATION)"
   ]
  },
  {
   "cell_type": "code",
   "execution_count": 170,
   "metadata": {
    "collapsed": false
   },
   "outputs": [
    {
     "name": "stdout",
     "output_type": "stream",
     "text": [
      "[u'  Tree 0:', u'    If (feature 5 <= 368.0)', u'     If (feature 5 <= 153.0)', u'      If (feature 4 <= 26.0)', u'       If (feature 4 <= 14.0)', u'        If (feature 2 <= 8.0)', u'         If (feature 2 <= 3.0)', u'          If (feature 10 <= 127953.0)', u'           If (feature 1 <= 5.0)', u'            If (feature 4 <= 5.0)']\n"
     ]
    }
   ],
   "source": [
    "debug_string = model.toDebugString().split('\\n')[2:-1]\n",
    "print(debug_string[:10])"
   ]
  },
  {
   "cell_type": "markdown",
   "metadata": {},
   "source": [
    "# Parse Debug String"
   ]
  },
  {
   "cell_type": "code",
   "execution_count": 139,
   "metadata": {
    "collapsed": false
   },
   "outputs": [],
   "source": [
    "class InternalNode(object):\n",
    "    \n",
    "    def __init__(self, parent_split_feature, parent_split_value, left, right):\n",
    "        \n",
    "        self.is_leaf = False\n",
    "        \n",
    "        self.parent_split_feature = parent_split_feature\n",
    "        self.parent_split_value = parent_split_value\n",
    "        self.left = left\n",
    "        self.right = right\n",
    "        \n",
    "        assert left.parent_split_feature == right.parent_split_feature\n",
    "        assert left.parent_split_value == right.parent_split_value\n",
    "        \n",
    "        self.split_feature = left.parent_split_feature\n",
    "        self.split_value = left.parent_split_value\n",
    "        \n",
    "    def __str__(self):\n",
    "        \n",
    "        return self.to_string(0)\n",
    "        \n",
    "    def to_string(self, indention):\n",
    "        \n",
    "        return (\" \" * indention) + \"InternalNode: %s, %s\" % (self.split_feature, self.split_value) + \"\\n\" \\\n",
    "                + self.left.to_string(indention + 1) + \"\\n\" \\\n",
    "                + self.right.to_string(indention + 1)\n",
    "    \n",
    "        \n",
    "class LeafNode(object):\n",
    "    \n",
    "    def __init__(self, parent_split_feature, parent_split_value, prediction):\n",
    "        \n",
    "        self.is_leaf = True\n",
    "        \n",
    "        self.parent_split_feature = parent_split_feature\n",
    "        self.parent_split_value = parent_split_value\n",
    "        self.prediction = prediction\n",
    "        \n",
    "    def to_string(self, indention):\n",
    "        \n",
    "        return (\" \" * indention) + \"LeafNode: %s\" % self.prediction"
   ]
  },
  {
   "cell_type": "code",
   "execution_count": 140,
   "metadata": {
    "collapsed": true
   },
   "outputs": [],
   "source": [
    "def split_debug_string(debug_string):\n",
    "    indention = len(re.search(\" +\", debug_string[0]).group())\n",
    "\n",
    "    result = []\n",
    "    currentList = None\n",
    "    for i in range(len(debug_string)):\n",
    "        if not debug_string[i].startswith(\" \" * (indention + 1)):\n",
    "            currentList = []\n",
    "            result.append(currentList)\n",
    "        currentList.append(debug_string[i])\n",
    "    \n",
    "    return result"
   ]
  },
  {
   "cell_type": "code",
   "execution_count": 141,
   "metadata": {
    "collapsed": false
   },
   "outputs": [],
   "source": [
    "tree_debug_strings = split_debug_string(debug_string)"
   ]
  },
  {
   "cell_type": "code",
   "execution_count": 142,
   "metadata": {
    "collapsed": true
   },
   "outputs": [],
   "source": [
    "def get_node_from_debug_string(debug_string):\n",
    "    node_debug_string = debug_string[0].strip()\n",
    "    if node_debug_string.startswith(\"Tree\"):\n",
    "        parent_split_feature = None\n",
    "        parent_split_value = None\n",
    "    else:\n",
    "        match = re.match(\"(If|Else) \\(feature (\\d+) (<=|>) (-?\\d+\\.\\d+)\\)\", node_debug_string)\n",
    "        parent_split_feature = FEATURE_MAPPING[int(match.group(2))]\n",
    "        parent_split_value = float(match.group(4))\n",
    "    \n",
    "    split = split_debug_string(debug_string[1:])\n",
    "    if len(split) == 1:\n",
    "        assert len(split[0]) == 1\n",
    "        prediction_value = float(re.match(\"Predict: (-?\\d+\\.\\d+)\", split[0][0].strip()).group(1))\n",
    "        return LeafNode(parent_split_feature, parent_split_value, prediction_value)\n",
    "    \n",
    "    assert len(split) == 2\n",
    "    left_child = get_node_from_debug_string(split[0])\n",
    "    right_child = get_node_from_debug_string(split[1])\n",
    "    \n",
    "    return InternalNode(parent_split_feature, parent_split_value, left_child, right_child)"
   ]
  },
  {
   "cell_type": "code",
   "execution_count": 143,
   "metadata": {
    "collapsed": false
   },
   "outputs": [],
   "source": [
    "trees = [get_node_from_debug_string(tree_debug_string) for tree_debug_string in tree_debug_strings]"
   ]
  },
  {
   "cell_type": "code",
   "execution_count": 173,
   "metadata": {
    "collapsed": false
   },
   "outputs": [
    {
     "name": "stdout",
     "output_type": "stream",
     "text": [
      "InternalNode: Feature 6, 368.0\n",
      " InternalNode: Feature 6, 153.0\n",
      "  InternalNode: Feature 5, 26.0\n",
      "   InternalNode: Feature 5, 14.0\n",
      "    InternalNode: Feature 3, 8.0\n",
      "     InternalNode: Feature 3, 3.0\n",
      "      InternalNode: Feature 11, 127953.0\n",
      "       InternalNode: Feature 2, 5.0\n",
      "        InternalNode: Feature 5, 5.0\n",
      "         InternalNode: Feature 10, 16502.0\n",
      "          InternalNode: Feature 12, 39174.0\n",
      "           InternalNode: Feature 12183, 0.0\n",
      "            InternalNode: Feature 5, 4.0\n",
      "             Intern...\n"
     ]
    }
   ],
   "source": [
    "print(str(trees[0])[:500] + \"...\")"
   ]
  },
  {
   "cell_type": "code",
   "execution_count": 145,
   "metadata": {
    "collapsed": false
   },
   "outputs": [
    {
     "data": {
      "text/plain": [
       "5"
      ]
     },
     "execution_count": 145,
     "metadata": {},
     "output_type": "execute_result"
    }
   ],
   "source": [
    "len(trees)"
   ]
  },
  {
   "cell_type": "markdown",
   "metadata": {},
   "source": [
    "# Get Most Common Features"
   ]
  },
  {
   "cell_type": "code",
   "execution_count": 153,
   "metadata": {
    "collapsed": true
   },
   "outputs": [],
   "source": [
    "def get_features_and_levels(tree, maxlevel=10):\n",
    "    result = []\n",
    "    queue = deque([(tree, 0)])\n",
    "\n",
    "    while len(queue):\n",
    "        node, level = queue.popleft()\n",
    "        if level > maxlevel:\n",
    "            break\n",
    "        if not node.is_leaf:\n",
    "            result.append((node.split_feature, level))\n",
    "            queue.append((node.left, level + 1))\n",
    "            queue.append((node.right, level + 1))\n",
    "    \n",
    "    return result"
   ]
  },
  {
   "cell_type": "code",
   "execution_count": 168,
   "metadata": {
    "collapsed": false,
    "scrolled": true
   },
   "outputs": [],
   "source": [
    "def get_top_features(trees, maxlevel=3):\n",
    "    return set([feature for tree in trees\n",
    "                        for feature, level in get_features_and_levels(tree, maxlevel)])"
   ]
  },
  {
   "cell_type": "code",
   "execution_count": 169,
   "metadata": {
    "collapsed": false
   },
   "outputs": [
    {
     "data": {
      "text/plain": [
       "{'Feature 1',\n",
       " 'Feature 10',\n",
       " 'Feature 11',\n",
       " 'Feature 12',\n",
       " 'Feature 14149',\n",
       " 'Feature 16989',\n",
       " 'Feature 17',\n",
       " 'Feature 19',\n",
       " 'Feature 2',\n",
       " 'Feature 2093',\n",
       " 'Feature 3',\n",
       " 'Feature 4',\n",
       " 'Feature 5',\n",
       " 'Feature 6',\n",
       " 'Feature 7',\n",
       " 'Feature 8',\n",
       " 'Feature 9'}"
      ]
     },
     "execution_count": 169,
     "metadata": {},
     "output_type": "execute_result"
    }
   ],
   "source": [
    "get_top_features(trees)"
   ]
  },
  {
   "cell_type": "code",
   "execution_count": null,
   "metadata": {
    "collapsed": true
   },
   "outputs": [],
   "source": []
  }
 ],
 "metadata": {
  "kernelspec": {
   "display_name": "Python 2",
   "language": "python",
   "name": "python2"
  },
  "language_info": {
   "codemirror_mode": {
    "name": "ipython",
    "version": 2
   },
   "file_extension": ".py",
   "mimetype": "text/x-python",
   "name": "python",
   "nbconvert_exporter": "python",
   "pygments_lexer": "ipython2",
   "version": "2.7.11"
  }
 },
 "nbformat": 4,
 "nbformat_minor": 0
}
