{
 "cells": [
  {
   "cell_type": "code",
   "execution_count": 1,
   "metadata": {
    "collapsed": false
   },
   "outputs": [],
   "source": [
    "import re\n",
    "from collections import deque\n",
    "\n",
    "from pyspark import SparkContext\n",
    "from pyspark import SparkConf\n",
    "from pyspark.sql import SQLContext\n",
    "\n",
    "from pyspark.mllib.tree import RandomForestModel"
   ]
  },
  {
   "cell_type": "code",
   "execution_count": 2,
   "metadata": {
    "collapsed": false
   },
   "outputs": [],
   "source": [
    "conf = (SparkConf().setMaster(\"local[*]\").setAppName('pyspark'))\n",
    "sc = SparkContext(conf=conf)\n",
    "sql_context = SQLContext(sc)"
   ]
  },
  {
   "cell_type": "markdown",
   "metadata": {},
   "source": [
    "# Configuration"
   ]
  },
  {
   "cell_type": "code",
   "execution_count": 3,
   "metadata": {
    "collapsed": true
   },
   "outputs": [],
   "source": [
    "MODEL_LOCATION = \"../models/random_forest_n5_d15/model_40.8_-73.95/\""
   ]
  },
  {
   "cell_type": "code",
   "execution_count": 18,
   "metadata": {
    "collapsed": false
   },
   "outputs": [
    {
     "data": {
      "text/plain": [
       "17099"
      ]
     },
     "execution_count": 18,
     "metadata": {},
     "output_type": "execute_result"
    }
   ],
   "source": [
    "FEATURE_MAPPING = [\"Pickup_Count_Dis_1h\", \"Dropoff_Count_Dis_1h\",\n",
    "                   \"Pickup_Count_Dis_4h\", \"Dropoff_Count_Dis_4h\",\n",
    "                   \"Pickup_Count_Nb_1h\", \"Dropoff_Count_Nb_1h\",\n",
    "                   \"Pickup_Count_Nb_4h\", \"Dropoff_Count_Nb_4h\",\n",
    "                   \"Pickup_Count_Nyc_1h\", \"Dropoff_Count_Nyc_1h\",\n",
    "                   \"Pickup_Count_Nyc_4h\", \"Dropoff_Count_Nyc_4h\",] \\\n",
    "                    + [\"Hour\", \"Day\", \"Month\", \"Weekday\", \"isHoliday\"] \\\n",
    "                    + [\n",
    "                   \"AWND_GHCND:US1NJBG0018\", \"AWND_GHCND:US1NYKN0003\",\n",
    "                   \"AWND_GHCND:US1NYKN0025\", \"AWND_GHCND:US1NYNS0007\",\n",
    "                   \"AWND_GHCND:US1NYQN0002\", \"AWND_GHCND:US1NYRC0001\",\n",
    "                   \"AWND_GHCND:US1NYRC0002\", \"AWND_GHCND:USC00300961\",\n",
    "                   \"AWND_GHCND:USW00014732\", \"AWND_GHCND:USW00094728\",\n",
    "                   \"AWND_GHCND:USW00094789\", \"PRCP_GHCND:US1NJBG0018\",\n",
    "                   \"PRCP_GHCND:US1NYKN0003\", \"PRCP_GHCND:US1NYKN0025\",\n",
    "                   \"PRCP_GHCND:US1NYNS0007\", \"PRCP_GHCND:US1NYQN0002\",\n",
    "                   \"PRCP_GHCND:US1NYRC0001\", \"PRCP_GHCND:US1NYRC0002\",\n",
    "                   \"PRCP_GHCND:USC00300961\", \"PRCP_GHCND:USW00014732\",\n",
    "                   \"PRCP_GHCND:USW00094728\", \"PRCP_GHCND:USW00094789\",\n",
    "                   \"TMAX_GHCND:US1NJBG0018\", \"TMAX_GHCND:US1NYKN0003\",\n",
    "                   \"TMAX_GHCND:US1NYKN0025\", \"TMAX_GHCND:US1NYNS0007\",\n",
    "                   \"TMAX_GHCND:US1NYQN0002\", \"TMAX_GHCND:US1NYRC0001\",\n",
    "                   \"TMAX_GHCND:US1NYRC0002\", \"TMAX_GHCND:USC00300961\",\n",
    "                   \"TMAX_GHCND:USW00014732\", \"TMAX_GHCND:USW00094728\",\n",
    "                   \"TMAX_GHCND:USW00094789\", \"TMIN_GHCND:US1NJBG0018\",\n",
    "                   \"TMIN_GHCND:US1NYKN0003\", \"TMIN_GHCND:US1NYKN0025\",\n",
    "                   \"TMIN_GHCND:US1NYNS0007\", \"TMIN_GHCND:US1NYQN0002\",\n",
    "                   \"TMIN_GHCND:US1NYRC0001\", \"TMIN_GHCND:US1NYRC0002\",\n",
    "                   \"TMIN_GHCND:USC00300961\", \"TMIN_GHCND:USW00014732\",\n",
    "                   \"TMIN_GHCND:USW00094728\", \"TMIN_GHCND:USW00094789\"] \\\n",
    "                    + [\"Venue %d (0h)\" % i for i in range(2434)] \\\n",
    "                    + [\"Venue %d (-3)\" % i for i in range(2434)] \\\n",
    "                    + [\"Venue %d (-2)\" % i for i in range(2434)] \\\n",
    "                    + [\"Venue %d (-1)\" % i for i in range(2434)] \\\n",
    "                    + [\"Venue %d (1)\" % i for i in range(2434)] \\\n",
    "                    + [\"Venue %d (2)\" % i for i in range(2434)] \\\n",
    "                    + [\"Venue %d (3)\" % i for i in range(2434)]\n",
    "len(FEATURE_MAPPING)"
   ]
  },
  {
   "cell_type": "markdown",
   "metadata": {},
   "source": [
    "# Load Model & Get Debug String"
   ]
  },
  {
   "cell_type": "code",
   "execution_count": 19,
   "metadata": {
    "collapsed": false
   },
   "outputs": [],
   "source": [
    "model = RandomForestModel.load(sc, MODEL_LOCATION)"
   ]
  },
  {
   "cell_type": "code",
   "execution_count": 20,
   "metadata": {
    "collapsed": false
   },
   "outputs": [
    {
     "name": "stdout",
     "output_type": "stream",
     "text": [
      "  Tree 0:\n",
      "    If (feature 10 <= 127478.0)\n",
      "     If (feature 4 <= 304.0)\n",
      "      If (feature 12 in {3.0,4.0,2.0,5.0,1.0,20.0,0.0,19.0,11.0,12.0,16.0,13.0})\n",
      "       If (feature 4 <= 165.0)\n",
      "        If (feature 15 in {2.0,1.0,3.0,0.0})\n",
      "         If (feature 6 <= 478.0)\n",
      "          If (feature 10 <= 24922.0)\n",
      "           If (feature 12 in {2.0,3.0,4.0,0.0,1.0})\n",
      "            If (feature 13 in {22.0,20.0,7.0,11.0,0.0,9.0,29.0,21.0,2.0,13.0,15.0})\n"
     ]
    }
   ],
   "source": [
    "debug_string = model.toDebugString().split('\\n')[2:-1]\n",
    "print(\"\\n\".join(debug_string[:10]))"
   ]
  },
  {
   "cell_type": "markdown",
   "metadata": {},
   "source": [
    "# Parse Debug String"
   ]
  },
  {
   "cell_type": "code",
   "execution_count": 21,
   "metadata": {
    "collapsed": false
   },
   "outputs": [],
   "source": [
    "class InternalNode(object):\n",
    "    \n",
    "    def __init__(self, parent_split_feature, parent_split_value, left, right):\n",
    "        \n",
    "        self.is_leaf = False\n",
    "        \n",
    "        self.parent_split_feature = parent_split_feature\n",
    "        self.parent_split_value = parent_split_value\n",
    "        self.left = left\n",
    "        self.right = right\n",
    "        \n",
    "        assert left.parent_split_feature == right.parent_split_feature\n",
    "        assert left.parent_split_value == right.parent_split_value\n",
    "        \n",
    "        self.split_feature = left.parent_split_feature\n",
    "        self.split_value = left.parent_split_value\n",
    "        \n",
    "    def __str__(self):\n",
    "        \n",
    "        return self.to_string(0)\n",
    "        \n",
    "    def to_string(self, indention):\n",
    "        \n",
    "        return (\" \" * indention) + \"InternalNode: %s, %s\" % (self.split_feature, self.split_value) + \"\\n\" \\\n",
    "                + self.left.to_string(indention + 1) + \"\\n\" \\\n",
    "                + self.right.to_string(indention + 1)\n",
    "    \n",
    "        \n",
    "class LeafNode(object):\n",
    "    \n",
    "    def __init__(self, parent_split_feature, parent_split_value, prediction):\n",
    "        \n",
    "        self.is_leaf = True\n",
    "        \n",
    "        self.parent_split_feature = parent_split_feature\n",
    "        self.parent_split_value = parent_split_value\n",
    "        self.prediction = prediction\n",
    "        \n",
    "    def to_string(self, indention):\n",
    "        \n",
    "        return (\" \" * indention) + \"LeafNode: %s\" % self.prediction"
   ]
  },
  {
   "cell_type": "code",
   "execution_count": 22,
   "metadata": {
    "collapsed": true
   },
   "outputs": [],
   "source": [
    "def split_debug_string(debug_string):\n",
    "    indention = len(re.search(\" +\", debug_string[0]).group())\n",
    "\n",
    "    result = []\n",
    "    currentList = None\n",
    "    for i in range(len(debug_string)):\n",
    "        if not debug_string[i].startswith(\" \" * (indention + 1)):\n",
    "            currentList = []\n",
    "            result.append(currentList)\n",
    "        currentList.append(debug_string[i])\n",
    "    \n",
    "    return result"
   ]
  },
  {
   "cell_type": "code",
   "execution_count": 23,
   "metadata": {
    "collapsed": false
   },
   "outputs": [],
   "source": [
    "tree_debug_strings = split_debug_string(debug_string)"
   ]
  },
  {
   "cell_type": "code",
   "execution_count": 24,
   "metadata": {
    "collapsed": true
   },
   "outputs": [],
   "source": [
    "def get_node_from_debug_string(debug_string):\n",
    "    node_debug_string = debug_string[0].strip()\n",
    "    if node_debug_string.startswith(\"Tree\"):\n",
    "        parent_split_feature = None\n",
    "        parent_split_value = None\n",
    "    else:\n",
    "        match = re.match(\"(If|Else) \\(feature (\\d+) (<=|>|in|not in) (.+)\\)\", node_debug_string)\n",
    "        if match is None:\n",
    "            print node_debug_string\n",
    "        feature_index = int(match.group(2))\n",
    "        parent_split_feature = FEATURE_MAPPING[feature_index]\n",
    "        parent_split_value = match.group(4)\n",
    "    \n",
    "    split = split_debug_string(debug_string[1:])\n",
    "    if len(split) == 1:\n",
    "        assert len(split[0]) == 1\n",
    "        prediction_value = float(re.match(\"Predict: (-?\\d+\\.\\d+)\", split[0][0].strip()).group(1))\n",
    "        return LeafNode(parent_split_feature, parent_split_value, prediction_value)\n",
    "    \n",
    "    assert len(split) == 2\n",
    "    left_child = get_node_from_debug_string(split[0])\n",
    "    right_child = get_node_from_debug_string(split[1])\n",
    "    \n",
    "    return InternalNode(parent_split_feature, parent_split_value, left_child, right_child)"
   ]
  },
  {
   "cell_type": "code",
   "execution_count": 25,
   "metadata": {
    "collapsed": false
   },
   "outputs": [],
   "source": [
    "trees = [get_node_from_debug_string(tree_debug_string) for tree_debug_string in tree_debug_strings]"
   ]
  },
  {
   "cell_type": "code",
   "execution_count": 32,
   "metadata": {
    "collapsed": false
   },
   "outputs": [
    {
     "name": "stdout",
     "output_type": "stream",
     "text": [
      "InternalNode: Pickup_Count_Nyc_4h, 127478.0\n",
      " InternalNode: Pickup_Count_Nb_1h, 304.0\n",
      "  InternalNode: Hour, {3.0,4.0,2.0,5.0,1.0,20.0,0.0,19.0,11.0,12.0,16.0,13.0}\n",
      "   InternalNode: Pickup_Count_Nb_1h, 165.0\n",
      "    InternalNode: Weekday, {2.0,1.0,3.0,0.0}\n",
      "     InternalNode: Pickup_Count_Nb_4h, 478.0\n",
      "      InternalNode: Pickup_Count_Nyc_4h, 24922.0\n",
      "       InternalNode: Hour, {2.0,3.0,4.0,0.0,1.0}\n",
      "        InternalNode: Day, {22.0,20.0,7.0,11.0,0.0,9.0,29.0,21.0,2.0,13.0,15.0}\n",
      "         InternalNode: Dropoff_Count_Nyc_4h, 16929.0\n",
      "          InternalNode: Dropoff_Count_Dis_4h, 72.0\n",
      "           InternalNode: Day, {29.0}\n",
      "            LeafNode: 1.0\n",
      "            InternalNode: Month, {1.0}\n",
      "             LeafNode: 1.0\n",
      "             LeafNode: 2.0\n",
      "           LeafNode: 3.0\n",
      "          InternalNode: Month, {3.0,1.0,5.0,6.0,7.0,9.0,0.0,10.0,2.0}\n",
      "           InternalNode: Weekday, {2.0,1.0}\n",
      "            InternalNode: Pickup_Count_Dis_1h, 5.0\n",
      "             InternalNode: Day, {0.0,15.0,20.0,2.0,7.0,9.0,21.0}\n",
      "              InternalNode: Dropoff_Count_Nb_1h, 121.0\n",
      "               LeafNode: 2.29411764706\n",
      "               LeafNode: 3.85714285714\n",
      "              InternalNode: Day, {13.0}\n",
      "               LeafNode: 5.0\n",
      "               LeafNode: 6.33333333333\n",
      "             InternalNode: Month, {1.0,9.0,0.0}\n",
      "              InternalNode: Dropoff_Count_Nyc_4h, 25368.0\n",
      "               LeafNode: 2.0\n",
      "               LeafNode: 1.0\n",
      "              LeafNode: 4.0\n",
      "            InternalNode: Dropoff_Count_Dis_1h, 16.0\n",
      "             InternalNode: Dropoff_Count_Nyc_4h, 20932.0\n",
      "              InternalNode: Dropoff_Count_Dis_4h, 98.0\n",
      "               LeafNode: 4.0\n",
      "               LeafNode: 5.66666666667\n",
      "              InternalNode: Month, {0.0,10.0,7.0}\n",
      "               LeafNode: 2.22222222222\n",
      "               LeafNode: 4.88888888889\n",
      "             InternalNode: Dropoff_Count_Dis_4h, 123.0\n",
      "              InternalNode: Dropoff_Count_Dis_1h, 19.0\n",
      "               LeafNode: 0.0\n",
      "               LeafNode: 3.125\n",
      "              InternalNode: Month, {2.0,1.0}\n",
      "  ...\n"
     ]
    }
   ],
   "source": [
    "print(str(trees[0])[:2000] + \"...\")"
   ]
  },
  {
   "cell_type": "code",
   "execution_count": 27,
   "metadata": {
    "collapsed": false
   },
   "outputs": [
    {
     "data": {
      "text/plain": [
       "5"
      ]
     },
     "execution_count": 27,
     "metadata": {},
     "output_type": "execute_result"
    }
   ],
   "source": [
    "len(trees)"
   ]
  },
  {
   "cell_type": "markdown",
   "metadata": {},
   "source": [
    "# Get Most Common Features"
   ]
  },
  {
   "cell_type": "code",
   "execution_count": 28,
   "metadata": {
    "collapsed": true
   },
   "outputs": [],
   "source": [
    "def get_features_and_levels(tree, maxlevel=10):\n",
    "    result = []\n",
    "    queue = deque([(tree, 0)])\n",
    "\n",
    "    while len(queue):\n",
    "        node, level = queue.popleft()\n",
    "        if level > maxlevel:\n",
    "            break\n",
    "        if not node.is_leaf:\n",
    "            result.append((node.split_feature, level))\n",
    "            queue.append((node.left, level + 1))\n",
    "            queue.append((node.right, level + 1))\n",
    "    \n",
    "    return result"
   ]
  },
  {
   "cell_type": "code",
   "execution_count": 29,
   "metadata": {
    "collapsed": false,
    "scrolled": true
   },
   "outputs": [],
   "source": [
    "def get_top_features(trees, maxlevel=4):\n",
    "    return set([feature for tree in trees\n",
    "                        for feature, level in get_features_and_levels(tree, maxlevel)])"
   ]
  },
  {
   "cell_type": "code",
   "execution_count": 30,
   "metadata": {
    "collapsed": false
   },
   "outputs": [
    {
     "data": {
      "text/plain": [
       "['Day',\n",
       " 'Dropoff_Count_Dis_1h',\n",
       " 'Dropoff_Count_Dis_4h',\n",
       " 'Dropoff_Count_Nb_1h',\n",
       " 'Dropoff_Count_Nb_4h',\n",
       " 'Dropoff_Count_Nyc_1h',\n",
       " 'Dropoff_Count_Nyc_4h',\n",
       " 'Hour',\n",
       " 'Month',\n",
       " 'Pickup_Count_Dis_1h',\n",
       " 'Pickup_Count_Dis_4h',\n",
       " 'Pickup_Count_Nb_1h',\n",
       " 'Pickup_Count_Nb_4h',\n",
       " 'Pickup_Count_Nyc_1h',\n",
       " 'Pickup_Count_Nyc_4h',\n",
       " 'Venue 1186 (1)',\n",
       " 'Venue 1754 (-3)',\n",
       " 'Venue 1971 (-3)',\n",
       " 'Venue 427 (-2)',\n",
       " 'Weekday',\n",
       " 'isHoliday']"
      ]
     },
     "execution_count": 30,
     "metadata": {},
     "output_type": "execute_result"
    }
   ],
   "source": [
    "sorted(get_top_features(trees))"
   ]
  },
  {
   "cell_type": "code",
   "execution_count": null,
   "metadata": {
    "collapsed": true
   },
   "outputs": [],
   "source": []
  },
  {
   "cell_type": "code",
   "execution_count": null,
   "metadata": {
    "collapsed": true
   },
   "outputs": [],
   "source": []
  }
 ],
 "metadata": {
  "kernelspec": {
   "display_name": "Python 2",
   "language": "python",
   "name": "python2"
  },
  "language_info": {
   "codemirror_mode": {
    "name": "ipython",
    "version": 2
   },
   "file_extension": ".py",
   "mimetype": "text/x-python",
   "name": "python",
   "nbconvert_exporter": "python",
   "pygments_lexer": "ipython2",
   "version": "2.7.11"
  }
 },
 "nbformat": 4,
 "nbformat_minor": 0
}
